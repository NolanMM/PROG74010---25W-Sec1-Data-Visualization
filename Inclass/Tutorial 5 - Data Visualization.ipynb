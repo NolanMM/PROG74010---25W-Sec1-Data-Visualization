{
 "cells": [
  {
   "cell_type": "markdown",
   "id": "ef674455",
   "metadata": {},
   "source": [
    "# Tutorial 5: Data Visualization"
   ]
  },
  {
   "cell_type": "markdown",
   "id": "61388ac6",
   "metadata": {},
   "source": [
    "1) Download the world happiness report dataset from here: https://www.kaggle.com/datasets/unsdsn/world-happiness"
   ]
  },
  {
   "cell_type": "markdown",
   "id": "5b0b5d85",
   "metadata": {},
   "source": [
    "2) Extract the 2019.csv file for analysis."
   ]
  },
  {
   "cell_type": "markdown",
   "id": "3c6a4c8d",
   "metadata": {},
   "source": [
    "3) Create a vertical bar chart with the 'Country or region' and 'Score' columns."
   ]
  },
  {
   "cell_type": "markdown",
   "id": "24b51769",
   "metadata": {},
   "source": [
    "4) Now repeat the vertical bar chart with just the top 10 countries."
   ]
  },
  {
   "cell_type": "markdown",
   "id": "9718f852",
   "metadata": {},
   "source": [
    "5) Create a horizontal bar chart with the top ten countries for 'Country or region' and 'Score' columns."
   ]
  },
  {
   "cell_type": "markdown",
   "id": "b75921ed",
   "metadata": {},
   "source": [
    "6) Select two other columns and repeat to create a horizontal stacked bar chart."
   ]
  },
  {
   "cell_type": "markdown",
   "id": "dbe8ff5a",
   "metadata": {},
   "source": [
    "7) Create a line graph for the happiness score including the top 10 countries from 2015-2019."
   ]
  },
  {
   "cell_type": "code",
   "execution_count": 2,
   "id": "6fc58118-9939-4753-9733-1e3eae2e2032",
   "metadata": {},
   "outputs": [],
   "source": [
    "import polars as pl"
   ]
  },
  {
   "cell_type": "code",
   "execution_count": 8,
   "id": "c7958d5f",
   "metadata": {},
   "outputs": [
    {
     "ename": "ComputeError",
     "evalue": "schema lengths differ",
     "output_type": "error",
     "traceback": [
      "\u001b[1;31m---------------------------------------------------------------------------\u001b[0m",
      "\u001b[1;31mComputeError\u001b[0m                              Traceback (most recent call last)",
      "File \u001b[1;32mM:\\Conestoga\\2025\\PROG74010 - 25W-Sec1-Data-Visualization\\venv\\Lib\\site-packages\\polars\\lazyframe\\frame.py:638\u001b[0m, in \u001b[0;36mLazyFrame._repr_html_\u001b[1;34m(self)\u001b[0m\n\u001b[0;32m    637\u001b[0m \u001b[38;5;28;01mtry\u001b[39;00m:\n\u001b[1;32m--> 638\u001b[0m     dot \u001b[38;5;241m=\u001b[39m \u001b[38;5;28;43mself\u001b[39;49m\u001b[38;5;241;43m.\u001b[39;49m\u001b[43m_ldf\u001b[49m\u001b[38;5;241;43m.\u001b[39;49m\u001b[43mto_dot\u001b[49m\u001b[43m(\u001b[49m\u001b[43moptimized\u001b[49m\u001b[38;5;241;43m=\u001b[39;49m\u001b[38;5;28;43;01mFalse\u001b[39;49;00m\u001b[43m)\u001b[49m\n\u001b[0;32m    639\u001b[0m     svg \u001b[38;5;241m=\u001b[39m subprocess\u001b[38;5;241m.\u001b[39mcheck_output(\n\u001b[0;32m    640\u001b[0m         [\u001b[38;5;124m\"\u001b[39m\u001b[38;5;124mdot\u001b[39m\u001b[38;5;124m\"\u001b[39m, \u001b[38;5;124m\"\u001b[39m\u001b[38;5;124m-Nshape=box\u001b[39m\u001b[38;5;124m\"\u001b[39m, \u001b[38;5;124m\"\u001b[39m\u001b[38;5;124m-Tsvg\u001b[39m\u001b[38;5;124m\"\u001b[39m], \u001b[38;5;28minput\u001b[39m\u001b[38;5;241m=\u001b[39m\u001b[38;5;124mf\u001b[39m\u001b[38;5;124m\"\u001b[39m\u001b[38;5;132;01m{\u001b[39;00mdot\u001b[38;5;132;01m}\u001b[39;00m\u001b[38;5;124m\"\u001b[39m\u001b[38;5;241m.\u001b[39mencode()\n\u001b[0;32m    641\u001b[0m     )\n",
      "\u001b[1;31mComputeError\u001b[0m: schema lengths differ",
      "\nDuring handling of the above exception, another exception occurred:\n",
      "\u001b[1;31mComputeError\u001b[0m                              Traceback (most recent call last)",
      "File \u001b[1;32mM:\\Conestoga\\2025\\PROG74010 - 25W-Sec1-Data-Visualization\\venv\\Lib\\site-packages\\IPython\\core\\formatters.py:406\u001b[0m, in \u001b[0;36mBaseFormatter.__call__\u001b[1;34m(self, obj)\u001b[0m\n\u001b[0;32m    404\u001b[0m     method \u001b[38;5;241m=\u001b[39m get_real_method(obj, \u001b[38;5;28mself\u001b[39m\u001b[38;5;241m.\u001b[39mprint_method)\n\u001b[0;32m    405\u001b[0m     \u001b[38;5;28;01mif\u001b[39;00m method \u001b[38;5;129;01mis\u001b[39;00m \u001b[38;5;129;01mnot\u001b[39;00m \u001b[38;5;28;01mNone\u001b[39;00m:\n\u001b[1;32m--> 406\u001b[0m         \u001b[38;5;28;01mreturn\u001b[39;00m \u001b[43mmethod\u001b[49m\u001b[43m(\u001b[49m\u001b[43m)\u001b[49m\n\u001b[0;32m    407\u001b[0m     \u001b[38;5;28;01mreturn\u001b[39;00m \u001b[38;5;28;01mNone\u001b[39;00m\n\u001b[0;32m    408\u001b[0m \u001b[38;5;28;01melse\u001b[39;00m:\n",
      "File \u001b[1;32mM:\\Conestoga\\2025\\PROG74010 - 25W-Sec1-Data-Visualization\\venv\\Lib\\site-packages\\polars\\lazyframe\\frame.py:647\u001b[0m, in \u001b[0;36mLazyFrame._repr_html_\u001b[1;34m(self)\u001b[0m\n\u001b[0;32m    642\u001b[0m             \u001b[38;5;28;01mreturn\u001b[39;00m (\n\u001b[0;32m    643\u001b[0m                 \u001b[38;5;124m\"\u001b[39m\u001b[38;5;124m<h4>NAIVE QUERY PLAN</h4><p>run <b>LazyFrame.show_graph()</b> to see\u001b[39m\u001b[38;5;124m\"\u001b[39m\n\u001b[0;32m    644\u001b[0m                 \u001b[38;5;124mf\u001b[39m\u001b[38;5;124m\"\u001b[39m\u001b[38;5;124m the optimized version</p>\u001b[39m\u001b[38;5;132;01m{\u001b[39;00msvg\u001b[38;5;241m.\u001b[39mdecode()\u001b[38;5;132;01m}\u001b[39;00m\u001b[38;5;124m\"\u001b[39m\n\u001b[0;32m    645\u001b[0m             )\n\u001b[0;32m    646\u001b[0m         \u001b[38;5;28;01mexcept\u001b[39;00m \u001b[38;5;167;01mException\u001b[39;00m:\n\u001b[1;32m--> 647\u001b[0m             insert \u001b[38;5;241m=\u001b[39m \u001b[38;5;28;43mself\u001b[39;49m\u001b[38;5;241;43m.\u001b[39;49m\u001b[43mexplain\u001b[49m\u001b[43m(\u001b[49m\u001b[43moptimized\u001b[49m\u001b[38;5;241;43m=\u001b[39;49m\u001b[38;5;28;43;01mFalse\u001b[39;49;00m\u001b[43m)\u001b[49m\u001b[38;5;241m.\u001b[39mreplace(\u001b[38;5;124m\"\u001b[39m\u001b[38;5;130;01m\\n\u001b[39;00m\u001b[38;5;124m\"\u001b[39m, \u001b[38;5;124m\"\u001b[39m\u001b[38;5;124m<p></p>\u001b[39m\u001b[38;5;124m\"\u001b[39m)\n\u001b[0;32m    649\u001b[0m             \u001b[38;5;28;01mreturn\u001b[39;00m \u001b[38;5;124mf\u001b[39m\u001b[38;5;124m\"\"\"\u001b[39m\u001b[38;5;130;01m\\\u001b[39;00m\n\u001b[0;32m    650\u001b[0m \u001b[38;5;124m<i>naive plan: (run <b>LazyFrame.explain(optimized=True)</b> to see the optimized plan)</i>\u001b[39m\n\u001b[0;32m    651\u001b[0m \u001b[38;5;124m    <p></p>\u001b[39m\n\u001b[0;32m    652\u001b[0m \u001b[38;5;124m    <div>\u001b[39m\u001b[38;5;132;01m{\u001b[39;00minsert\u001b[38;5;132;01m}\u001b[39;00m\u001b[38;5;124m</div>\u001b[39m\u001b[38;5;130;01m\\\u001b[39;00m\n\u001b[0;32m    653\u001b[0m \u001b[38;5;124m\"\"\"\u001b[39m\n",
      "File \u001b[1;32mM:\\Conestoga\\2025\\PROG74010 - 25W-Sec1-Data-Visualization\\venv\\Lib\\site-packages\\polars\\lazyframe\\frame.py:1124\u001b[0m, in \u001b[0;36mLazyFrame.explain\u001b[1;34m(self, format, optimized, type_coercion, _type_check, predicate_pushdown, projection_pushdown, simplify_expression, slice_pushdown, comm_subplan_elim, comm_subexpr_elim, cluster_with_columns, collapse_joins, streaming, tree_format, _check_order)\u001b[0m\n\u001b[0;32m   1122\u001b[0m     \u001b[38;5;28;01mreturn\u001b[39;00m \u001b[38;5;28mself\u001b[39m\u001b[38;5;241m.\u001b[39m_ldf\u001b[38;5;241m.\u001b[39mdescribe_plan_tree()\n\u001b[0;32m   1123\u001b[0m \u001b[38;5;28;01melse\u001b[39;00m:\n\u001b[1;32m-> 1124\u001b[0m     \u001b[38;5;28;01mreturn\u001b[39;00m \u001b[38;5;28;43mself\u001b[39;49m\u001b[38;5;241;43m.\u001b[39;49m\u001b[43m_ldf\u001b[49m\u001b[38;5;241;43m.\u001b[39;49m\u001b[43mdescribe_plan\u001b[49m\u001b[43m(\u001b[49m\u001b[43m)\u001b[49m\n",
      "\u001b[1;31mComputeError\u001b[0m: schema lengths differ"
     ]
    },
    {
     "data": {
      "text/plain": [
       "<LazyFrame at 0x20230368380>"
      ]
     },
     "execution_count": 8,
     "metadata": {},
     "output_type": "execute_result"
    }
   ],
   "source": [
    "lazy_df = pl.scan_csv(\"archive/*.csv\")\n",
    "\n",
    "lazy_df"
   ]
  },
  {
   "cell_type": "code",
   "execution_count": null,
   "id": "8686981b-63be-4652-9a9e-130b6854d872",
   "metadata": {},
   "outputs": [],
   "source": []
  }
 ],
 "metadata": {
  "kernelspec": {
   "display_name": "Python 3 (ipykernel)",
   "language": "python",
   "name": "python3"
  },
  "language_info": {
   "codemirror_mode": {
    "name": "ipython",
    "version": 3
   },
   "file_extension": ".py",
   "mimetype": "text/x-python",
   "name": "python",
   "nbconvert_exporter": "python",
   "pygments_lexer": "ipython3",
   "version": "3.12.6"
  }
 },
 "nbformat": 4,
 "nbformat_minor": 5
}
